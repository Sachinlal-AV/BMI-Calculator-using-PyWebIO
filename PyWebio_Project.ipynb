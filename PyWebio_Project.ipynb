{
 "cells": [
  {
   "cell_type": "code",
   "execution_count": 1,
   "id": "bb70417b",
   "metadata": {},
   "outputs": [
    {
     "name": "stdout",
     "output_type": "stream",
     "text": [
      "Requirement already satisfied: pywebio in c:\\users\\sachi\\anaconda3\\lib\\site-packages (1.6.1)\n",
      "Requirement already satisfied: tornado>=5.0 in c:\\users\\sachi\\anaconda3\\lib\\site-packages (from pywebio) (6.1)\n",
      "Requirement already satisfied: user-agents in c:\\users\\sachi\\anaconda3\\lib\\site-packages (from pywebio) (2.2.0)\n",
      "Requirement already satisfied: ua-parser>=0.10.0 in c:\\users\\sachi\\anaconda3\\lib\\site-packages (from user-agents->pywebio) (0.10.0)\n"
     ]
    }
   ],
   "source": [
    "!pip install pywebio"
   ]
  },
  {
   "cell_type": "code",
   "execution_count": 2,
   "id": "eef4e15b",
   "metadata": {},
   "outputs": [],
   "source": [
    "from pywebio.input import *\n",
    "from pywebio.output import *"
   ]
  },
  {
   "cell_type": "code",
   "execution_count": 3,
   "id": "3b7ba782",
   "metadata": {},
   "outputs": [],
   "source": [
    "def bmi_calculator():\n",
    "    \n",
    "    ''' The function calculates the BMI index of a person based on their height and weight inputs'''\n",
    "    \n",
    "    name = input(\"Enter your Name \", name=\"name\")\n",
    "    \n",
    "    height = input(\"Enter your height in (cms)\", type= FLOAT)\n",
    "    \n",
    "    weight = input(\"Enter your weight in (Kgs)\", type= FLOAT)\n",
    "    \n",
    "    bmi = weight/(height/100)**2\n",
    "    \n",
    "    bmi_metric = [(18.5,\"Underweight\"),(24.9,\"Normal\"),(29.9,\"Overweight\"),(float(\"inf\"),\"Obese\")]\n",
    "    \n",
    "    for weight_cond, cond in bmi_metric:\n",
    "        \n",
    "        if bmi<= weight_cond:\n",
    "            \n",
    "            put_text(\"Your BMI is %.1f and you are %s\"%(bmi,cond))\n",
    "            break\n",
    "            \n",
    "                       \n",
    "                     \n",
    "            \n",
    "          \n",
    "\n",
    "            \n",
    "            \n",
    "            \n"
   ]
  },
  {
   "cell_type": "code",
   "execution_count": 4,
   "id": "dab61272",
   "metadata": {},
   "outputs": [],
   "source": [
    "bmi_calculator()"
   ]
  },
  {
   "cell_type": "code",
   "execution_count": null,
   "id": "16dcf780",
   "metadata": {},
   "outputs": [],
   "source": []
  },
  {
   "cell_type": "code",
   "execution_count": null,
   "id": "c28ab7b7",
   "metadata": {},
   "outputs": [],
   "source": []
  }
 ],
 "metadata": {
  "kernelspec": {
   "display_name": "Python 3",
   "language": "python",
   "name": "python3"
  },
  "language_info": {
   "codemirror_mode": {
    "name": "ipython",
    "version": 3
   },
   "file_extension": ".py",
   "mimetype": "text/x-python",
   "name": "python",
   "nbconvert_exporter": "python",
   "pygments_lexer": "ipython3",
   "version": "3.8.8"
  }
 },
 "nbformat": 4,
 "nbformat_minor": 5
}
